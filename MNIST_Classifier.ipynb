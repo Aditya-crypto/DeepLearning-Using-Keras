{
 "cells": [
  {
   "cell_type": "markdown",
   "metadata": {
    "colab_type": "text",
    "id": "46ZiVLLdIUKj"
   },
   "source": [
    "# Q3 (MNIST Dataset)"
   ]
  },
  {
   "cell_type": "markdown",
   "metadata": {
    "colab_type": "text",
    "id": "obayAPAs9QIz"
   },
   "source": [
    "# Classification using SVM"
   ]
  },
  {
   "cell_type": "markdown",
   "metadata": {
    "colab_type": "text",
    "id": "uinBLvMLSuep"
   },
   "source": [
    "## Importing Libraries"
   ]
  },
  {
   "cell_type": "code",
   "execution_count": 0,
   "metadata": {
    "colab": {},
    "colab_type": "code",
    "id": "ZiD-7jElIeIF"
   },
   "outputs": [],
   "source": [
    "import numpy as np\n",
    "import pandas as pd\n",
    "from sklearn.model_selection import train_test_split\n",
    "from sklearn.svm import SVC\n",
    "from sklearn.metrics import confusion_matrix"
   ]
  },
  {
   "cell_type": "markdown",
   "metadata": {
    "colab_type": "text",
    "id": "JEvED6ygTLef"
   },
   "source": [
    "## Loading MNIST Dataset"
   ]
  },
  {
   "cell_type": "code",
   "execution_count": 0,
   "metadata": {
    "colab": {},
    "colab_type": "code",
    "id": "nDMo6ARhIhLf"
   },
   "outputs": [],
   "source": [
    "import keras\n",
    "from keras.datasets import mnist\n",
    "(train_x, train_y) , (test_x, test_y) = mnist.load_data()"
   ]
  },
  {
   "cell_type": "markdown",
   "metadata": {
    "colab_type": "text",
    "id": "2LUzTb0eTXgs"
   },
   "source": [
    "## Reshaping Training and Test Dataset"
   ]
  },
  {
   "cell_type": "code",
   "execution_count": 0,
   "metadata": {
    "colab": {},
    "colab_type": "code",
    "id": "8hsWk6322VrS"
   },
   "outputs": [],
   "source": [
    "train_x = train_x.reshape(60000,784)\n",
    "test_x = test_x.reshape(10000,784)\n"
   ]
  },
  {
   "cell_type": "code",
   "execution_count": 0,
   "metadata": {
    "colab": {
     "base_uri": "https://localhost:8080/",
     "height": 52
    },
    "colab_type": "code",
    "id": "cW0mf4T7PFsQ",
    "outputId": "1e7aa3e1-6bde-465e-d0ac-c39fd4320e14"
   },
   "outputs": [
    {
     "name": "stdout",
     "output_type": "stream",
     "text": [
      "(60000, 784)\n",
      "(10000, 784)\n"
     ]
    }
   ],
   "source": [
    "print(train_x.shape)\n",
    "print(test_x.shape)"
   ]
  },
  {
   "cell_type": "markdown",
   "metadata": {
    "colab_type": "text",
    "id": "qP3n7hxGTpxS"
   },
   "source": [
    "# Feature Scaling"
   ]
  },
  {
   "cell_type": "code",
   "execution_count": 0,
   "metadata": {
    "colab": {},
    "colab_type": "code",
    "id": "l91Gvtoj1ulG"
   },
   "outputs": [],
   "source": [
    "from sklearn.preprocessing import StandardScaler\n",
    "X_train=StandardScaler().fit_transform(train_x)\n",
    "X_test=StandardScaler().fit_transform(test_x)"
   ]
  },
  {
   "cell_type": "code",
   "execution_count": 0,
   "metadata": {
    "colab": {},
    "colab_type": "code",
    "id": "FUWMlBgZ4YI1"
   },
   "outputs": [],
   "source": [
    "from sklearn import svm\n",
    "from sklearn.metrics import confusion_matrix\n",
    "from sklearn.metrics import accuracy_score \n",
    "from sklearn import decomposition"
   ]
  },
  {
   "cell_type": "markdown",
   "metadata": {
    "colab_type": "text",
    "id": "egcpBPkET-bZ"
   },
   "source": [
    "# Applying PCA"
   ]
  },
  {
   "cell_type": "code",
   "execution_count": 0,
   "metadata": {
    "colab": {},
    "colab_type": "code",
    "id": "3b8mzpPZKEFM"
   },
   "outputs": [],
   "source": [
    "pca=decomposition.PCA()\n",
    "pca.n_components=784\n",
    "pca_train=pca.fit_transform(X_train)\n",
    "# pca_test=pca.fit_transform(X_test)"
   ]
  },
  {
   "cell_type": "code",
   "execution_count": 0,
   "metadata": {
    "colab": {
     "base_uri": "https://localhost:8080/",
     "height": 34
    },
    "colab_type": "code",
    "id": "R5np6MuZMuPp",
    "outputId": "c8cc2f2d-f9aa-4e91-a3bd-dddcb450b2d4"
   },
   "outputs": [
    {
     "name": "stdout",
     "output_type": "stream",
     "text": [
      "(60000, 784)\n"
     ]
    }
   ],
   "source": [
    "print(pca_train.shape)"
   ]
  },
  {
   "cell_type": "markdown",
   "metadata": {
    "colab_type": "text",
    "id": "yucHvGZ2UFpD"
   },
   "source": [
    "## Plotting Graph and Finding effective  Principle Components"
   ]
  },
  {
   "cell_type": "code",
   "execution_count": 0,
   "metadata": {
    "colab": {
     "base_uri": "https://localhost:8080/",
     "height": 388
    },
    "colab_type": "code",
    "id": "apuoddMRLs9h",
    "outputId": "dc2bd252-b3c1-49c9-b08c-dba34279a106"
   },
   "outputs": [
    {
     "data": {
      "image/png": "[encoded data removed]",
      "text/plain": [
       "<Figure size 576x432 with 1 Axes>"
      ]
     },
     "metadata": {
      "tags": []
     },
     "output_type": "display_data"
    }
   ],
   "source": [
    "explained_var=pca.explained_variance_/np.sum(pca.explained_variance_ratio_)\n",
    "cum_var=np.cumsum(explained_var)\n",
    "import matplotlib.pyplot as plt\n",
    "plt.figure(1,figsize=(8,6))\n",
    "plt.clf()\n",
    "plt.plot(cum_var,linewidth=2)\n",
    "\n",
    "plt.grid()\n",
    "plt.xlabel(\"components\")\n",
    "plt.ylabel(\"variance Explained\")\n",
    "plt.show()"
   ]
  },
  {
   "cell_type": "code",
   "execution_count": 0,
   "metadata": {
    "colab": {},
    "colab_type": "code",
    "id": "Qh6diSt_NbbC"
   },
   "outputs": [],
   "source": [
    "pca=decomposition.PCA()\n",
    "pca.n_components=500\n",
    "pca_train=pca.fit_transform(X_train)\n",
    "pca_test=pca.fit_transform(X_test)"
   ]
  },
  {
   "cell_type": "markdown",
   "metadata": {
    "colab_type": "text",
    "id": "jtZMEqRfUw09"
   },
   "source": [
    "## SVM Model Fitting "
   ]
  },
  {
   "cell_type": "code",
   "execution_count": 0,
   "metadata": {
    "colab": {},
    "colab_type": "code",
    "id": "vNJwc4ZEOQck"
   },
   "outputs": [],
   "source": [
    "model=svm.SVC(kernel='linear',decision_function_shape='ovr')\n",
    "model.fit(pca_train,train_y)\n",
    "pred_labels = model.predict(pca_test)"
   ]
  },
  {
   "cell_type": "markdown",
   "metadata": {
    "colab_type": "text",
    "id": "lYGAbWOeUpo0"
   },
   "source": [
    "# Accuracy Score"
   ]
  },
  {
   "cell_type": "code",
   "execution_count": 1,
   "metadata": {
    "colab": {
     "base_uri": "https://localhost:8080/",
     "height": 34
    },
    "colab_type": "code",
    "id": "ZvyWbaafPrkc",
    "outputId": "36405520-e8d0-47d1-e020-03d83279b464"
   },
   "outputs": [
    {
     "name": "stdout",
     "output_type": "stream",
     "text": [
      "0.8799\n"
     ]
    }
   ],
   "source": [
    "from sklearn.metrics import accuracy_score\n",
    "accuracy_score(test_y, pred_labels)"
   ]
  },
  {
   "cell_type": "code",
   "execution_count": 2,
   "metadata": {
    "colab": {
     "base_uri": "https://localhost:8080/",
     "height": 34
    },
    "colab_type": "code",
    "id": "7nfCe6Kz7Zwu",
    "outputId": "04fec1d8-d799-46a8-bbd6-41b07755c582"
   },
   "outputs": [
    {
     "name": "stdout",
     "output_type": "stream",
     "text": [
      "0.8321\n"
     ]
    }
   ],
   "source": [
    "model=svm.SVC(kernel='linear', C=-20 ,decision_function_shape='ovr')\n",
    "model.fit(pca_train,train_y)\n",
    "pred_labels = model.predict(pca_test)\n",
    "accuracy_score(test_y, pred_labels)"
   ]
  },
  {
   "cell_type": "code",
   "execution_count": 3,
   "metadata": {
    "colab": {
     "base_uri": "https://localhost:8080/",
     "height": 34
    },
    "colab_type": "code",
    "id": "5EeVMgSa7fRO",
    "outputId": "567a05e5-0fde-4f73-a76c-56274c852827"
   },
   "outputs": [
    {
     "name": "stdout",
     "output_type": "stream",
     "text": [
      "0.7819\n"
     ]
    }
   ],
   "source": [
    "model=svm.SVC(kernel='linear', C=-1000 ,decision_function_shape='ovr')\n",
    "model.fit(pca_train,train_y)\n",
    "pred_labels = model.predict(pca_test)\n",
    "accuracy_score(test_y, pred_labels)"
   ]
  },
  {
   "cell_type": "code",
   "execution_count": 4,
   "metadata": {
    "colab": {
     "base_uri": "https://localhost:8080/",
     "height": 34
    },
    "colab_type": "code",
    "id": "JCN0UF8q8BwE",
    "outputId": "94e6bd52-44ba-4db0-aacd-06712e10d579"
   },
   "outputs": [
    {
     "name": "stdout",
     "output_type": "stream",
     "text": [
      "0.9199\n"
     ]
    }
   ],
   "source": [
    "model=svm.SVC(kernel='rbf', C=-1000 ,decision_function_shape='ovr',gamma=2**-5)\n",
    "model.fit(pca_train,train_y)\n",
    "pred_labels = model.predict(pca_test)\n",
    "accuracy_score(test_y, pred_labels)"
   ]
  },
  {
   "cell_type": "markdown",
   "metadata": {
    "colab_type": "text",
    "id": "s55pUACSxQyH"
   },
   "source": [
    "# Multi Layer Perceptron (MLP)"
   ]
  },
  {
   "cell_type": "code",
   "execution_count": 0,
   "metadata": {
    "colab": {},
    "colab_type": "code",
    "id": "XBLr3tYnz5gc"
   },
   "outputs": [],
   "source": [
    "import keras\n",
    "from tensorflow.keras.layers import Dense\n",
    "from tensorflow.keras import Sequential\n",
    "from tensorflow.keras import optimizers"
   ]
  },
  {
   "cell_type": "markdown",
   "metadata": {
    "colab_type": "text",
    "id": "RLDSGs_GVHCA"
   },
   "source": [
    "# Loading Dataset"
   ]
  },
  {
   "cell_type": "code",
   "execution_count": 0,
   "metadata": {
    "colab": {},
    "colab_type": "code",
    "id": "BJ9PRsxS8pzE"
   },
   "outputs": [],
   "source": [
    "from keras.datasets import mnist\n",
    "(train_x, train_y) , (test_x, test_y) = mnist.load_data()"
   ]
  },
  {
   "cell_type": "markdown",
   "metadata": {
    "colab_type": "text",
    "id": "UTEC1zsGVTvW"
   },
   "source": [
    "# Reshaping Train Data And Test Data"
   ]
  },
  {
   "cell_type": "code",
   "execution_count": 0,
   "metadata": {
    "colab": {},
    "colab_type": "code",
    "id": "iDEM8fgiN5jh"
   },
   "outputs": [],
   "source": [
    "train_x = train_x.reshape(60000,784)\n",
    "test_x = test_x.reshape(10000,784)"
   ]
  },
  {
   "cell_type": "markdown",
   "metadata": {
    "colab_type": "text",
    "id": "61EQkwCIVdfH"
   },
   "source": [
    "## OneHot Encoding"
   ]
  },
  {
   "cell_type": "code",
   "execution_count": 0,
   "metadata": {
    "colab": {},
    "colab_type": "code",
    "id": "efusRK4v4CRi"
   },
   "outputs": [],
   "source": [
    "train_y = keras.utils.to_categorical(train_y,10)\n",
    "test_y = keras.utils.to_categorical(test_y,10)"
   ]
  },
  {
   "cell_type": "markdown",
   "metadata": {
    "colab_type": "text",
    "id": "qCvUeSYlWEC_"
   },
   "source": [
    "## Training Model"
   ]
  },
  {
   "cell_type": "code",
   "execution_count": 0,
   "metadata": {
    "colab": {},
    "colab_type": "code",
    "id": "sM0xqXyDzPhH"
   },
   "outputs": [],
   "source": [
    "model = Sequential()\n",
    "model.add(Dense(units=128,activation=\"relu\",input_shape=(784,)))\n",
    "model.add(Dense(units=128,activation=\"relu\"))\n",
    "model.add(Dense(units=128,activation=\"relu\"))\n",
    "model.add(Dense(units=32,activation=\"relu\"))\n",
    "model.add(Dense(units=10,activation=\"softmax\"))"
   ]
  },
  {
   "cell_type": "markdown",
   "metadata": {
    "colab_type": "text",
    "id": "YlFAfNE2Wct2"
   },
   "source": [
    "# Compiling Model "
   ]
  },
  {
   "cell_type": "code",
   "execution_count": 0,
   "metadata": {
    "colab": {
     "base_uri": "https://localhost:8080/",
     "height": 1000
    },
    "colab_type": "code",
    "id": "bmsa-eR32rEn",
    "outputId": "76dd050d-3b65-4502-be5a-27f1a0f55492"
   },
   "outputs": [
    {
     "name": "stdout",
     "output_type": "stream",
     "text": [
      "Epoch 1/50\n",
      "938/938 [==============================] - 3s 3ms/step - loss: 0.1484 - accuracy: 0.9572\n",
      "Epoch 2/50\n",
      "938/938 [==============================] - 3s 3ms/step - loss: 0.1333 - accuracy: 0.9614\n",
      "Epoch 3/50\n",
      "938/938 [==============================] - 3s 3ms/step - loss: 0.1198 - accuracy: 0.9649\n",
      "Epoch 4/50\n",
      "938/938 [==============================] - 3s 3ms/step - loss: 0.1079 - accuracy: 0.9687\n",
      "Epoch 5/50\n",
      "938/938 [==============================] - 3s 3ms/step - loss: 0.1000 - accuracy: 0.9704\n",
      "Epoch 6/50\n",
      "938/938 [==============================] - 3s 3ms/step - loss: 0.0917 - accuracy: 0.9734\n",
      "Epoch 7/50\n",
      "938/938 [==============================] - 3s 3ms/step - loss: 0.0869 - accuracy: 0.9743\n",
      "Epoch 8/50\n",
      "938/938 [==============================] - 3s 3ms/step - loss: 0.0799 - accuracy: 0.9762\n",
      "Epoch 9/50\n",
      "938/938 [==============================] - 3s 3ms/step - loss: 0.0745 - accuracy: 0.9778\n",
      "Epoch 10/50\n",
      "938/938 [==============================] - 3s 3ms/step - loss: 0.0720 - accuracy: 0.9785\n",
      "Epoch 11/50\n",
      "938/938 [==============================] - 3s 3ms/step - loss: 0.0653 - accuracy: 0.9800\n",
      "Epoch 12/50\n",
      "938/938 [==============================] - 3s 3ms/step - loss: 0.0627 - accuracy: 0.9802\n",
      "Epoch 13/50\n",
      "938/938 [==============================] - 3s 3ms/step - loss: 0.0603 - accuracy: 0.9818\n",
      "Epoch 14/50\n",
      "938/938 [==============================] - 3s 3ms/step - loss: 0.0541 - accuracy: 0.9833\n",
      "Epoch 15/50\n",
      "938/938 [==============================] - 3s 3ms/step - loss: 0.0526 - accuracy: 0.9837\n",
      "Epoch 16/50\n",
      "938/938 [==============================] - 3s 3ms/step - loss: 0.0501 - accuracy: 0.9847\n",
      "Epoch 17/50\n",
      "938/938 [==============================] - 3s 3ms/step - loss: 0.0464 - accuracy: 0.9859\n",
      "Epoch 18/50\n",
      "938/938 [==============================] - 3s 3ms/step - loss: 0.0440 - accuracy: 0.9868\n",
      "Epoch 19/50\n",
      "938/938 [==============================] - 3s 3ms/step - loss: 0.0433 - accuracy: 0.9862\n",
      "Epoch 20/50\n",
      "938/938 [==============================] - 3s 3ms/step - loss: 0.0406 - accuracy: 0.9874\n",
      "Epoch 21/50\n",
      "938/938 [==============================] - 3s 3ms/step - loss: 0.0346 - accuracy: 0.9890\n",
      "Epoch 22/50\n",
      "938/938 [==============================] - 3s 3ms/step - loss: 0.0365 - accuracy: 0.9889\n",
      "Epoch 23/50\n",
      "938/938 [==============================] - 3s 3ms/step - loss: 0.0330 - accuracy: 0.9900\n",
      "Epoch 24/50\n",
      "938/938 [==============================] - 3s 3ms/step - loss: 0.0363 - accuracy: 0.9885\n",
      "Epoch 25/50\n",
      "938/938 [==============================] - 3s 3ms/step - loss: 0.0295 - accuracy: 0.9907\n",
      "Epoch 26/50\n",
      "938/938 [==============================] - 3s 3ms/step - loss: 0.0276 - accuracy: 0.9918\n",
      "Epoch 27/50\n",
      "938/938 [==============================] - 3s 3ms/step - loss: 0.0320 - accuracy: 0.9897\n",
      "Epoch 28/50\n",
      "938/938 [==============================] - 3s 3ms/step - loss: 0.0263 - accuracy: 0.9915\n",
      "Epoch 29/50\n",
      "938/938 [==============================] - 3s 3ms/step - loss: 0.0238 - accuracy: 0.9927\n",
      "Epoch 30/50\n",
      "938/938 [==============================] - 3s 3ms/step - loss: 0.0228 - accuracy: 0.9928\n",
      "Epoch 31/50\n",
      "938/938 [==============================] - 3s 3ms/step - loss: 0.0289 - accuracy: 0.9912\n",
      "Epoch 32/50\n",
      "938/938 [==============================] - 3s 3ms/step - loss: 0.0239 - accuracy: 0.9925\n",
      "Epoch 33/50\n",
      "938/938 [==============================] - 3s 3ms/step - loss: 0.0221 - accuracy: 0.9928\n",
      "Epoch 34/50\n",
      "938/938 [==============================] - 3s 3ms/step - loss: 0.0230 - accuracy: 0.9925\n",
      "Epoch 35/50\n",
      "938/938 [==============================] - 3s 3ms/step - loss: 0.0221 - accuracy: 0.9930\n",
      "Epoch 36/50\n",
      "938/938 [==============================] - 3s 3ms/step - loss: 0.0176 - accuracy: 0.9944\n",
      "Epoch 37/50\n",
      "938/938 [==============================] - 3s 3ms/step - loss: 0.0156 - accuracy: 0.9952\n",
      "Epoch 38/50\n",
      "938/938 [==============================] - 3s 3ms/step - loss: 0.0181 - accuracy: 0.9943\n",
      "Epoch 39/50\n",
      "938/938 [==============================] - 3s 3ms/step - loss: 0.0181 - accuracy: 0.9942\n",
      "Epoch 40/50\n",
      "938/938 [==============================] - 3s 3ms/step - loss: 0.0245 - accuracy: 0.9923\n",
      "Epoch 41/50\n",
      "938/938 [==============================] - 3s 3ms/step - loss: 0.0195 - accuracy: 0.9937\n",
      "Epoch 42/50\n",
      "938/938 [==============================] - 3s 3ms/step - loss: 0.0122 - accuracy: 0.9961\n",
      "Epoch 43/50\n",
      "938/938 [==============================] - 3s 3ms/step - loss: 0.0192 - accuracy: 0.9941\n",
      "Epoch 44/50\n",
      "938/938 [==============================] - 3s 3ms/step - loss: 0.0122 - accuracy: 0.9964\n",
      "Epoch 45/50\n",
      "938/938 [==============================] - 3s 3ms/step - loss: 0.0215 - accuracy: 0.9934\n",
      "Epoch 46/50\n",
      "938/938 [==============================] - 3s 3ms/step - loss: 0.0171 - accuracy: 0.9946\n",
      "Epoch 47/50\n",
      "938/938 [==============================] - 3s 3ms/step - loss: 0.0184 - accuracy: 0.9945\n",
      "Epoch 48/50\n",
      "938/938 [==============================] - 3s 3ms/step - loss: 0.0136 - accuracy: 0.9956\n",
      "Epoch 49/50\n",
      "938/938 [==============================] - 3s 3ms/step - loss: 0.0121 - accuracy: 0.9960\n",
      "Epoch 50/50\n",
      "938/938 [==============================] - 3s 3ms/step - loss: 0.0152 - accuracy: 0.9955\n"
     ]
    }
   ],
   "source": [
    "model.compile(optimizer=\"SGD\",loss=\"categorical_crossentropy\",metrics=[\"accuracy\"])\n",
    "history=model.fit(train_x,train_y,batch_size=64,epochs=50)"
   ]
  },
  {
   "cell_type": "code",
   "execution_count": 0,
   "metadata": {
    "colab": {},
    "colab_type": "code",
    "id": "Ist_EHukSlgg"
   },
   "outputs": [],
   "source": [
    "import numpy as np"
   ]
  },
  {
   "cell_type": "markdown",
   "metadata": {
    "colab_type": "text",
    "id": "GbvuvoeAXIC8"
   },
   "source": [
    "# Predictor for Test Data"
   ]
  },
  {
   "cell_type": "code",
   "execution_count": 0,
   "metadata": {
    "colab": {},
    "colab_type": "code",
    "id": "OBkpBt7a64ms"
   },
   "outputs": [],
   "source": [
    "y_pred = model.predict(test_x)\n",
    "#Converting predictions to label\n",
    "pred = list()\n",
    "for i in range(len(y_pred)):\n",
    "    pred.append(np.argmax(y_pred[i]))\n",
    "#Converting one hot encoded test label to label\n",
    "test = list()\n",
    "for i in range(len(test_y)):\n",
    "    test.append(np.argmax(test_y[i]))"
   ]
  },
  {
   "cell_type": "markdown",
   "metadata": {
    "colab_type": "text",
    "id": "mqxPrTJZXVyQ"
   },
   "source": [
    "## Accuracy Score"
   ]
  },
  {
   "cell_type": "code",
   "execution_count": 0,
   "metadata": {
    "colab": {
     "base_uri": "https://localhost:8080/",
     "height": 34
    },
    "colab_type": "code",
    "id": "8jwLIFcxSchx",
    "outputId": "7f4e80c8-d4e1-4a0e-fc54-9ef3f68bac82"
   },
   "outputs": [
    {
     "name": "stdout",
     "output_type": "stream",
     "text": [
      "Accuracy is: 96.59\n"
     ]
    }
   ],
   "source": [
    "from sklearn.metrics import accuracy_score\n",
    "a = accuracy_score(pred,test)\n",
    "print('Accuracy is:', a*100)"
   ]
  },
  {
   "cell_type": "markdown",
   "metadata": {
    "colab_type": "text",
    "id": "JEmvUZ4dT8lk"
   },
   "source": [
    "# Convolutional Neural Network"
   ]
  },
  {
   "cell_type": "markdown",
   "metadata": {
    "colab_type": "text",
    "id": "aN8xANxiX6W0"
   },
   "source": [
    "## Importing Libraries"
   ]
  },
  {
   "cell_type": "code",
   "execution_count": 0,
   "metadata": {
    "colab": {
     "base_uri": "https://localhost:8080/",
     "height": 34
    },
    "colab_type": "code",
    "id": "ManL3C1DSxli",
    "outputId": "8c82e6dd-96ce-48c5-fa15-01c56c618d6e"
   },
   "outputs": [
    {
     "name": "stderr",
     "output_type": "stream",
     "text": [
      "Using TensorFlow backend.\n"
     ]
    }
   ],
   "source": [
    "import keras\n",
    "from tensorflow.keras import Sequential\n",
    "from tensorflow.keras import optimizers\n",
    "from tensorflow.keras.layers import Dense, Dropout, Flatten\n",
    "from tensorflow.keras.layers import Conv2D, MaxPooling2D"
   ]
  },
  {
   "cell_type": "markdown",
   "metadata": {
    "colab_type": "text",
    "id": "eUr5JWqJYGzn"
   },
   "source": [
    "## Loading Dataset"
   ]
  },
  {
   "cell_type": "code",
   "execution_count": 0,
   "metadata": {
    "colab": {},
    "colab_type": "code",
    "id": "lGxzklCMb2UM"
   },
   "outputs": [],
   "source": [
    "from keras.datasets import mnist\n",
    "(x_train, train_y) , (x_test, test_y) = mnist.load_data()"
   ]
  },
  {
   "cell_type": "markdown",
   "metadata": {
    "colab_type": "text",
    "id": "gdh77tVBYMqw"
   },
   "source": [
    "## Checking Image Data Format"
   ]
  },
  {
   "cell_type": "code",
   "execution_count": 0,
   "metadata": {
    "colab": {
     "base_uri": "https://localhost:8080/",
     "height": 34
    },
    "colab_type": "code",
    "id": "Usb83RZGb59F",
    "outputId": "9ebf4fe6-fd69-45d1-bea3-3dedd58553c4"
   },
   "outputs": [
    {
     "name": "stdout",
     "output_type": "stream",
     "text": [
      "channels_last\n"
     ]
    }
   ],
   "source": [
    " from keras import backend as K  \n",
    " print(K.image_data_format()) "
   ]
  },
  {
   "cell_type": "markdown",
   "metadata": {
    "colab_type": "text",
    "id": "D0kLa_8-YWKC"
   },
   "source": [
    "## Reshaping DataFrame"
   ]
  },
  {
   "cell_type": "code",
   "execution_count": 0,
   "metadata": {
    "colab": {},
    "colab_type": "code",
    "id": "o1UK0pWYcDOd"
   },
   "outputs": [],
   "source": [
    "x_train = x_train.reshape(x_train.shape[0],28,28,1)\n",
    "x_test = x_test.reshape(x_test.shape[0],28,28,1)\n",
    " "
   ]
  },
  {
   "cell_type": "code",
   "execution_count": 0,
   "metadata": {
    "colab": {
     "base_uri": "https://localhost:8080/",
     "height": 52
    },
    "colab_type": "code",
    "id": "WPQOhfjsfZx7",
    "outputId": "77878960-721a-47bd-c0fa-752fb299b1c5"
   },
   "outputs": [
    {
     "name": "stdout",
     "output_type": "stream",
     "text": [
      "(60000, 28, 28, 1)\n",
      "(10000, 28, 28, 1)\n"
     ]
    }
   ],
   "source": [
    "print(x_train.shape)\n",
    "print(x_test.shape)"
   ]
  },
  {
   "cell_type": "markdown",
   "metadata": {
    "colab_type": "text",
    "id": "bgNuqt-qZJ3y"
   },
   "source": [
    "## OneHot Encoding"
   ]
  },
  {
   "cell_type": "code",
   "execution_count": 0,
   "metadata": {
    "colab": {},
    "colab_type": "code",
    "id": "U3QmVg8hfh-L"
   },
   "outputs": [],
   "source": [
    "train_y = keras.utils.to_categorical(train_y,10)\n",
    "test_y = keras.utils.to_categorical(test_y,10)"
   ]
  },
  {
   "cell_type": "markdown",
   "metadata": {
    "colab_type": "text",
    "id": "uxbIPKIUZPeQ"
   },
   "source": [
    "## Model Fitting"
   ]
  },
  {
   "cell_type": "code",
   "execution_count": 0,
   "metadata": {
    "colab": {},
    "colab_type": "code",
    "id": "zbVewn0Fg6Fj"
   },
   "outputs": [],
   "source": [
    "model=Sequential()\n",
    "model.add(Conv2D(32,5,data_format='channels_last',activation='relu',input_shape=(28,28,1)))\n",
    "model.add(MaxPooling2D(pool_size=(2, 2)))\n",
    "model.add(Conv2D(64,5,data_format='channels_last',activation='relu'))\n",
    "model.add(MaxPooling2D(pool_size=(2, 2)))\n",
    "model.add(Dropout(0.25))\n",
    "model.add(Flatten())\n",
    "model.add(Dense(128, activation='relu'))\n",
    "model.add(Dense(64, activation='relu'))\n",
    "model.add(Dropout(0.5))\n",
    "model.add(Dense(10, activation='softmax'))"
   ]
  },
  {
   "cell_type": "markdown",
   "metadata": {
    "colab_type": "text",
    "id": "jCnoJYUHZUKA"
   },
   "source": [
    "## Compiling Model"
   ]
  },
  {
   "cell_type": "code",
   "execution_count": 0,
   "metadata": {
    "colab": {},
    "colab_type": "code",
    "id": "J818WT4CjI3O"
   },
   "outputs": [],
   "source": [
    "model.compile(optimizer=\"SGD\",loss=\"categorical_crossentropy\",metrics=[\"accuracy\"])"
   ]
  },
  {
   "cell_type": "markdown",
   "metadata": {
    "colab_type": "text",
    "id": "5T3tcmcoZicr"
   },
   "source": [
    "## Summary Of Model"
   ]
  },
  {
   "cell_type": "code",
   "execution_count": 0,
   "metadata": {
    "colab": {
     "base_uri": "https://localhost:8080/",
     "height": 503
    },
    "colab_type": "code",
    "id": "bE5ZuXTSnFHU",
    "outputId": "86fe963f-e3c8-4697-d388-7a72aa23b03b"
   },
   "outputs": [
    {
     "name": "stdout",
     "output_type": "stream",
     "text": [
      "Model: \"sequential\"\n",
      "_________________________________________________________________\n",
      "Layer (type)                 Output Shape              Param #   \n",
      "=================================================================\n",
      "conv2d (Conv2D)              (None, 24, 24, 32)        832       \n",
      "_________________________________________________________________\n",
      "max_pooling2d (MaxPooling2D) (None, 12, 12, 32)        0         \n",
      "_________________________________________________________________\n",
      "conv2d_1 (Conv2D)            (None, 8, 8, 64)          51264     \n",
      "_________________________________________________________________\n",
      "max_pooling2d_1 (MaxPooling2 (None, 4, 4, 64)          0         \n",
      "_________________________________________________________________\n",
      "dropout (Dropout)            (None, 4, 4, 64)          0         \n",
      "_________________________________________________________________\n",
      "flatten (Flatten)            (None, 1024)              0         \n",
      "_________________________________________________________________\n",
      "dense (Dense)                (None, 128)               131200    \n",
      "_________________________________________________________________\n",
      "dense_1 (Dense)              (None, 64)                8256      \n",
      "_________________________________________________________________\n",
      "dropout_1 (Dropout)          (None, 64)                0         \n",
      "_________________________________________________________________\n",
      "dense_2 (Dense)              (None, 10)                650       \n",
      "=================================================================\n",
      "Total params: 192,202\n",
      "Trainable params: 192,202\n",
      "Non-trainable params: 0\n",
      "_________________________________________________________________\n"
     ]
    }
   ],
   "source": [
    "model.summary()"
   ]
  },
  {
   "cell_type": "markdown",
   "metadata": {
    "colab_type": "text",
    "id": "7iCOOk7TZqpp"
   },
   "source": [
    "## Model Fitting"
   ]
  },
  {
   "cell_type": "code",
   "execution_count": 0,
   "metadata": {
    "colab": {
     "base_uri": "https://localhost:8080/",
     "height": 732
    },
    "colab_type": "code",
    "id": "Qv23Zigfm_Zz",
    "outputId": "54fc4fa9-005f-47b5-b632-8bf0086d255d"
   },
   "outputs": [
    {
     "name": "stdout",
     "output_type": "stream",
     "text": [
      "Epoch 1/20\n",
      "938/938 [==============================] - 59s 63ms/step - loss: 1.3794 - accuracy: 0.6262 - val_loss: 0.3858 - val_accuracy: 0.8786\n",
      "Epoch 2/20\n",
      "938/938 [==============================] - 58s 62ms/step - loss: 0.5830 - accuracy: 0.8208 - val_loss: 0.3043 - val_accuracy: 0.9066\n",
      "Epoch 3/20\n",
      "938/938 [==============================] - 59s 62ms/step - loss: 0.4635 - accuracy: 0.8632 - val_loss: 0.2662 - val_accuracy: 0.9216\n",
      "Epoch 4/20\n",
      "938/938 [==============================] - 59s 63ms/step - loss: 0.3977 - accuracy: 0.8831 - val_loss: 0.2148 - val_accuracy: 0.9325\n",
      "Epoch 5/20\n",
      "938/938 [==============================] - 59s 63ms/step - loss: 0.3436 - accuracy: 0.8990 - val_loss: 0.1712 - val_accuracy: 0.9485\n",
      "Epoch 6/20\n",
      "938/938 [==============================] - 59s 63ms/step - loss: 0.2921 - accuracy: 0.9154 - val_loss: 0.1286 - val_accuracy: 0.9616\n",
      "Epoch 7/20\n",
      "938/938 [==============================] - 59s 62ms/step - loss: 0.2351 - accuracy: 0.9331 - val_loss: 0.1075 - val_accuracy: 0.9671\n",
      "Epoch 8/20\n",
      "938/938 [==============================] - 59s 63ms/step - loss: 0.2052 - accuracy: 0.9412 - val_loss: 0.0960 - val_accuracy: 0.9725\n",
      "Epoch 9/20\n",
      "938/938 [==============================] - 59s 63ms/step - loss: 0.1760 - accuracy: 0.9495 - val_loss: 0.0839 - val_accuracy: 0.9761\n",
      "Epoch 10/20\n",
      "938/938 [==============================] - 59s 63ms/step - loss: 0.1563 - accuracy: 0.9568 - val_loss: 0.0778 - val_accuracy: 0.9782\n",
      "Epoch 11/20\n",
      "938/938 [==============================] - 59s 63ms/step - loss: 0.1367 - accuracy: 0.9619 - val_loss: 0.0757 - val_accuracy: 0.9788\n",
      "Epoch 12/20\n",
      "938/938 [==============================] - 59s 62ms/step - loss: 0.1226 - accuracy: 0.9658 - val_loss: 0.0713 - val_accuracy: 0.9814\n",
      "Epoch 13/20\n",
      "938/938 [==============================] - 59s 63ms/step - loss: 0.1182 - accuracy: 0.9682 - val_loss: 0.0608 - val_accuracy: 0.9812\n",
      "Epoch 14/20\n",
      "938/938 [==============================] - 59s 63ms/step - loss: 0.1035 - accuracy: 0.9708 - val_loss: 0.0600 - val_accuracy: 0.9844\n",
      "Epoch 15/20\n",
      "938/938 [==============================] - 59s 63ms/step - loss: 0.1014 - accuracy: 0.9716 - val_loss: 0.0609 - val_accuracy: 0.9841\n",
      "Epoch 16/20\n",
      "938/938 [==============================] - 59s 63ms/step - loss: 0.0932 - accuracy: 0.9743 - val_loss: 0.0572 - val_accuracy: 0.9849\n",
      "Epoch 17/20\n",
      "938/938 [==============================] - 59s 63ms/step - loss: 0.0875 - accuracy: 0.9762 - val_loss: 0.0528 - val_accuracy: 0.9866\n",
      "Epoch 18/20\n",
      "938/938 [==============================] - 59s 63ms/step - loss: 0.0835 - accuracy: 0.9762 - val_loss: 0.0500 - val_accuracy: 0.9863\n",
      "Epoch 19/20\n",
      "938/938 [==============================] - 59s 63ms/step - loss: 0.0759 - accuracy: 0.9786 - val_loss: 0.0512 - val_accuracy: 0.9876\n",
      "Epoch 20/20\n",
      "938/938 [==============================] - 59s 63ms/step - loss: 0.0791 - accuracy: 0.9785 - val_loss: 0.0601 - val_accuracy: 0.9834\n"
     ]
    }
   ],
   "source": [
    "history=model.fit(x_train,train_y,batch_size=64,epochs=20,validation_data=(x_test, test_y))"
   ]
  }
 ],
 "metadata": {
  "colab": {
   "collapsed_sections": [],
   "name": "a3q3.ipynb",
   "provenance": []
  },
  "kernelspec": {
   "display_name": "Python 3",
   "language": "python",
   "name": "python3"
  },
  "language_info": {
   "codemirror_mode": {
    "name": "ipython",
    "version": 3
   },
   "file_extension": ".py",
   "mimetype": "text/x-python",
   "name": "python",
   "nbconvert_exporter": "python",
   "pygments_lexer": "ipython3",
   "version": "3.6.9"
  }
 },
 "nbformat": 4,
 "nbformat_minor": 1
}
